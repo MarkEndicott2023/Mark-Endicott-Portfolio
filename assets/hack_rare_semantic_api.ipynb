{
 "cells": [
  {
   "cell_type": "code",
   "execution_count": 53,
   "id": "22b506b8-cbf8-4152-bd32-2f78954d16c3",
   "metadata": {},
   "outputs": [],
   "source": [
    "import polars as pl\n",
    "import requests\n",
    "import time"
   ]
  },
  {
   "cell_type": "code",
   "execution_count": 67,
   "id": "9d495743-2550-4389-97df-952ab75f924a",
   "metadata": {},
   "outputs": [
    {
     "name": "stderr",
     "output_type": "stream",
     "text": [
      "Could not determine dtype for column 4, falling back to string\n"
     ]
    },
    {
     "name": "stdout",
     "output_type": "stream",
     "text": [
      "shape: (5, 17)\n",
      "┌───────────┬───────────┬───────────┬───────────┬───┬───────────┬───────────┬───────────┬──────────┐\n",
      "│ gene_symb ┆ hgnc_id   ┆ gene_url  ┆ disease_l ┆ … ┆ gene_dise ┆ actionabi ┆ actionabi ┆ actionab │\n",
      "│ ol        ┆ ---       ┆ ---       ┆ abel      ┆   ┆ ase_valid ┆ lity_asse ┆ lity_asse ┆ ility_gr │\n",
      "│ ---       ┆ str       ┆ str       ┆ ---       ┆   ┆ ity_gceps ┆ rtion_cla ┆ rtion_rep ┆ oups     │\n",
      "│ str       ┆           ┆           ┆ str       ┆   ┆ ---       ┆ ssi…      ┆ ort…      ┆ ---      │\n",
      "│           ┆           ┆           ┆           ┆   ┆ str       ┆ ---       ┆ ---       ┆ str      │\n",
      "│           ┆           ┆           ┆           ┆   ┆           ┆ str       ┆ str       ┆          │\n",
      "╞═══════════╪═══════════╪═══════════╪═══════════╪═══╪═══════════╪═══════════╪═══════════╪══════════╡\n",
      "│ A2ML1     ┆ HGNC:2333 ┆ https://s ┆ Noonan    ┆ … ┆ RASopathy ┆ null      ┆ null      ┆ null     │\n",
      "│           ┆ 6         ┆ earch.cli ┆ syndrome  ┆   ┆           ┆           ┆           ┆          │\n",
      "│           ┆           ┆ nicalgeno ┆           ┆   ┆           ┆           ┆           ┆          │\n",
      "│           ┆           ┆ me.…      ┆           ┆   ┆           ┆           ┆           ┆          │\n",
      "│ AAGAB     ┆ HGNC:2566 ┆ https://s ┆ palmoplan ┆ … ┆ null      ┆ null      ┆ null      ┆ null     │\n",
      "│           ┆ 2         ┆ earch.cli ┆ tar kerat ┆   ┆           ┆           ┆           ┆          │\n",
      "│           ┆           ┆ nicalgeno ┆ oderma,   ┆   ┆           ┆           ┆           ┆          │\n",
      "│           ┆           ┆ me.…      ┆ punc…     ┆   ┆           ┆           ┆           ┆          │\n",
      "│ AARS1     ┆ HGNC:20   ┆ https://s ┆ Charcot-M ┆ … ┆ Charcot-M ┆ null      ┆ null      ┆ null     │\n",
      "│           ┆           ┆ earch.cli ┆ arie-Toot ┆   ┆ arie-Toot ┆           ┆           ┆          │\n",
      "│           ┆           ┆ nicalgeno ┆ h disease ┆   ┆ h         ┆           ┆           ┆          │\n",
      "│           ┆           ┆ me.…      ┆ ax…       ┆   ┆           ┆           ┆           ┆          │\n",
      "│ AARS2     ┆ HGNC:2102 ┆ https://s ┆ mitochond ┆ … ┆ Mitochond ┆ null      ┆ null      ┆ null     │\n",
      "│           ┆ 2         ┆ earch.cli ┆ rial      ┆   ┆ rial      ┆           ┆           ┆          │\n",
      "│           ┆           ┆ nicalgeno ┆ disease   ┆   ┆ Diseases  ┆           ┆           ┆          │\n",
      "│           ┆           ┆ me.…      ┆           ┆   ┆           ┆           ┆           ┆          │\n",
      "│ AARS2     ┆ HGNC:2102 ┆ https://s ┆ leukoence ┆ … ┆ null      ┆ null      ┆ null      ┆ null     │\n",
      "│           ┆ 2         ┆ earch.cli ┆ phalopath ┆   ┆           ┆           ┆           ┆          │\n",
      "│           ┆           ┆ nicalgeno ┆ y, progre ┆   ┆           ┆           ┆           ┆          │\n",
      "│           ┆           ┆ me.…      ┆ ssi…      ┆   ┆           ┆           ┆           ┆          │\n",
      "└───────────┴───────────┴───────────┴───────────┴───┴───────────┴───────────┴───────────┴──────────┘\n"
     ]
    }
   ],
   "source": [
    "'''Loading and filter the data for testability'''\n",
    "\n",
    "# Load the Excel file.\n",
    "file_path = \"Clingen-Curation-Activity-Summary-Report-2025-03-01.xlsx\"\n",
    "\n",
    "# Read the Excel file (all sheets).\n",
    "df_dict = pl.read_excel(file_path, sheet_id=0)\n",
    "\n",
    "# Acessing first sheet.\n",
    "df_dict = df_dict['Clingen-Curation-Activity-Summa']\n",
    "\n",
    "# Printing first few rows.\n",
    "print(df_dict.head())\n",
    "\n",
    "# Filtering to manageable rows.\n",
    "df_filtered = df_dict[:50]"
   ]
  },
  {
   "cell_type": "code",
   "execution_count": 59,
   "id": "839b55c1-b1ac-4262-87e6-ec233ec9eec2",
   "metadata": {},
   "outputs": [],
   "source": [
    "def fetch_abstracts_semanticscholar(gene, disease, hgnc_id, mondo_id, max_results=5, retries=3, delay=5):\n",
    "    \n",
    "    \"\"\"Fetch abstracts from Semantic Scholar for a gene-disease relationship.\"\"\"\n",
    "\n",
    "    query = f\"{gene} {disease}\"\n",
    "    url = f\"https://api.semanticscholar.org/graph/v1/paper/search?query={query}&fields=title,abstract,year,journal,externalIds&limit={max_results}\"\n",
    "\n",
    "    for attempt in range(retries):\n",
    "        try:\n",
    "            response = requests.get(url, timeout=10)\n",
    "            response.raise_for_status()  # Raise error if request fails\n",
    "\n",
    "            data = response.json()\n",
    "            articles = []\n",
    "\n",
    "            for result in data.get(\"data\", []):\n",
    "                articles.append({\n",
    "                    \"gene_symbol\": gene,\n",
    "                    \"hgnc_id\": hgnc_id,\n",
    "                    \"disease_label\": disease,\n",
    "                    \"mondo_id\": mondo_id,\n",
    "                    \"title\": result.get(\"title\", \"N/A\"),\n",
    "                    \"abstract\": result.get(\"abstract\", \"N/A\"),\n",
    "                    \"DOI\": result.get(\"externalIds\", {}).get(\"DOI\", \"N/A\"),\n",
    "                })\n",
    "\n",
    "            return articles\n",
    "\n",
    "        except requests.exceptions.RequestException as e:\n",
    "            print(f\"Error fetching data for {gene}-{disease}: {e}\")\n",
    "            if attempt < retries - 1:\n",
    "                time.sleep(delay)\n",
    "            else:\n",
    "                return []"
   ]
  },
  {
   "cell_type": "code",
   "execution_count": 69,
   "id": "8a2c5562-bf43-498e-ab9e-6c81be4f5c4c",
   "metadata": {},
   "outputs": [
    {
     "name": "stdout",
     "output_type": "stream",
     "text": [
      "Error fetching data for A2ML1-Noonan syndrome: 429 Client Error:  for url: https://api.semanticscholar.org/graph/v1/paper/search?query=A2ML1%20Noonan%20syndrome&fields=title,abstract,year,journal,externalIds&limit=10\n",
      "Error fetching data for AARS1-Charcot-Marie-Tooth disease axonal type 2N: HTTPSConnectionPool(host='api.semanticscholar.org', port=443): Read timed out.\n",
      "Error fetching data for AARS1-Charcot-Marie-Tooth disease axonal type 2N: 429 Client Error:  for url: https://api.semanticscholar.org/graph/v1/paper/search?query=AARS1%20Charcot-Marie-Tooth%20disease%20axonal%20type%202N&fields=title,abstract,year,journal,externalIds&limit=10\n",
      "Error fetching data for AARS2-leukoencephalopathy, progressive, with ovarian failure: 429 Client Error:  for url: https://api.semanticscholar.org/graph/v1/paper/search?query=AARS2%20leukoencephalopathy,%20progressive,%20with%20ovarian%20failure&fields=title,abstract,year,journal,externalIds&limit=10\n",
      "Error fetching data for AASS-hyperlysinemia: 429 Client Error:  for url: https://api.semanticscholar.org/graph/v1/paper/search?query=AASS%20hyperlysinemia&fields=title,abstract,year,journal,externalIds&limit=10\n",
      "Error fetching data for AASS-hyperlysinemia: HTTPSConnectionPool(host='api.semanticscholar.org', port=443): Read timed out. (read timeout=10)\n",
      "Error fetching data for ABAT-developmental and epileptic encephalopathy: HTTPSConnectionPool(host='api.semanticscholar.org', port=443): Read timed out. (read timeout=10)\n",
      "Error fetching data for ABAT-developmental and epileptic encephalopathy: 429 Client Error:  for url: https://api.semanticscholar.org/graph/v1/paper/search?query=ABAT%20developmental%20and%20epileptic%20encephalopathy&fields=title,abstract,year,journal,externalIds&limit=10\n",
      "Error fetching data for ABAT-developmental and epileptic encephalopathy: HTTPSConnectionPool(host='api.semanticscholar.org', port=443): Read timed out. (read timeout=10)\n",
      "Error fetching data for ABAT-GABA aminotransaminase deficiency: 429 Client Error:  for url: https://api.semanticscholar.org/graph/v1/paper/search?query=ABAT%20GABA%20aminotransaminase%20deficiency&fields=title,abstract,year,journal,externalIds&limit=10\n",
      "Error fetching data for ABCA4-ABCA4-related retinopathy: 429 Client Error:  for url: https://api.semanticscholar.org/graph/v1/paper/search?query=ABCA4%20ABCA4-related%20retinopathy&fields=title,abstract,year,journal,externalIds&limit=10\n",
      "Error fetching data for ABCA4-ABCA4-related retinopathy: HTTPSConnectionPool(host='api.semanticscholar.org', port=443): Read timed out. (read timeout=10)\n",
      "Error fetching data for ABCA4-ABCA4-related retinopathy: HTTPSConnectionPool(host='api.semanticscholar.org', port=443): Read timed out. (read timeout=10)\n",
      "Error fetching data for ABCB11-progressive familial intrahepatic cholestasis type 2: HTTPSConnectionPool(host='api.semanticscholar.org', port=443): Read timed out. (read timeout=10)\n",
      "Error fetching data for ABCB11-progressive familial intrahepatic cholestasis type 2: 429 Client Error:  for url: https://api.semanticscholar.org/graph/v1/paper/search?query=ABCB11%20progressive%20familial%20intrahepatic%20cholestasis%20type%202&fields=title,abstract,year,journal,externalIds&limit=10\n",
      "Error fetching data for ABCB4-low phospholipid associated cholelithiasis: 429 Client Error:  for url: https://api.semanticscholar.org/graph/v1/paper/search?query=ABCB4%20low%20phospholipid%20associated%20cholelithiasis&fields=title,abstract,year,journal,externalIds&limit=10\n",
      "Error fetching data for ABCB6-microphthalmia, isolated, with coloboma 7: 429 Client Error:  for url: https://api.semanticscholar.org/graph/v1/paper/search?query=ABCB6%20microphthalmia,%20isolated,%20with%20coloboma%207&fields=title,abstract,year,journal,externalIds&limit=10\n",
      "Error fetching data for ACBD5-acyl-CoA binding domain containing protein 5 deficiency: 429 Client Error:  for url: https://api.semanticscholar.org/graph/v1/paper/search?query=ACBD5%20acyl-CoA%20binding%20domain%20containing%20protein%205%20deficiency&fields=title,abstract,year,journal,externalIds&limit=10\n",
      "Error fetching data for ACOX1-peroxisomal acyl-CoA oxidase deficiency: 429 Client Error:  for url: https://api.semanticscholar.org/graph/v1/paper/search?query=ACOX1%20peroxisomal%20acyl-CoA%20oxidase%20deficiency&fields=title,abstract,year,journal,externalIds&limit=10\n",
      "Error fetching data for ACOX1-peroxisomal acyl-CoA oxidase deficiency: 429 Client Error:  for url: https://api.semanticscholar.org/graph/v1/paper/search?query=ACOX1%20peroxisomal%20acyl-CoA%20oxidase%20deficiency&fields=title,abstract,year,journal,externalIds&limit=10\n",
      "Error fetching data for ACOX1-peroxisomal acyl-CoA oxidase deficiency: 429 Client Error:  for url: https://api.semanticscholar.org/graph/v1/paper/search?query=ACOX1%20peroxisomal%20acyl-CoA%20oxidase%20deficiency&fields=title,abstract,year,journal,externalIds&limit=10\n",
      "Error fetching data for ACOX2-congenital bile acid synthesis defect 6: 429 Client Error:  for url: https://api.semanticscholar.org/graph/v1/paper/search?query=ACOX2%20congenital%20bile%20acid%20synthesis%20defect%206&fields=title,abstract,year,journal,externalIds&limit=10\n",
      "Error fetching data for ACOX2-congenital bile acid synthesis defect 6: 429 Client Error:  for url: https://api.semanticscholar.org/graph/v1/paper/search?query=ACOX2%20congenital%20bile%20acid%20synthesis%20defect%206&fields=title,abstract,year,journal,externalIds&limit=10\n",
      "Saved 460 abstracts to gene_disease_abstracts.csv\n",
      "shape: (5, 7)\n",
      "┌─────────────┬────────────┬──────────────┬──────────────┬─────────────┬─────────────┬─────────────┐\n",
      "│ gene_symbol ┆ hgnc_id    ┆ disease_labe ┆ mondo_id     ┆ title       ┆ abstract    ┆ DOI         │\n",
      "│ ---         ┆ ---        ┆ l            ┆ ---          ┆ ---         ┆ ---         ┆ ---         │\n",
      "│ str         ┆ str        ┆ ---          ┆ str          ┆ str         ┆ str         ┆ str         │\n",
      "│             ┆            ┆ str          ┆              ┆             ┆             ┆             │\n",
      "╞═════════════╪════════════╪══════════════╪══════════════╪═════════════╪═════════════╪═════════════╡\n",
      "│ A2ML1       ┆ HGNC:23336 ┆ Noonan       ┆ MONDO:001899 ┆ The         ┆ null        ┆ 10.1038/s41 │\n",
      "│             ┆            ┆ syndrome     ┆ 7            ┆ clinical    ┆             ┆ 431-020-007 │\n",
      "│             ┆            ┆              ┆              ┆ significanc ┆             ┆ 43-3        │\n",
      "│             ┆            ┆              ┆              ┆ e of A…     ┆             ┆             │\n",
      "│ A2ML1       ┆ HGNC:23336 ┆ Noonan       ┆ MONDO:001899 ┆ High        ┆ null        ┆ 10.1007/s13 │\n",
      "│             ┆            ┆ syndrome     ┆ 7            ┆ frequency   ┆             ┆ 353-023-008 │\n",
      "│             ┆            ┆              ┆              ┆ of hotspot  ┆             ┆ 03-6        │\n",
      "│             ┆            ┆              ┆              ┆ muta…       ┆             ┆             │\n",
      "│ A2ML1       ┆ HGNC:23336 ┆ Noonan       ┆ MONDO:001899 ┆ Heterozygou ┆ null        ┆ 10.1038/ejh │\n",
      "│             ┆            ┆ syndrome     ┆ 7            ┆ s germline  ┆             ┆ g.2014.115  │\n",
      "│             ┆            ┆              ┆              ┆ mutation…   ┆             ┆             │\n",
      "│ A2ML1       ┆ HGNC:23336 ┆ Noonan       ┆ MONDO:001899 ┆ Digenic     ┆ null        ┆ 10.1038/s41 │\n",
      "│             ┆            ┆ syndrome     ┆ 7            ┆ inheritance ┆             ┆ 431-020-065 │\n",
      "│             ┆            ┆              ┆              ┆ of subclin… ┆             ┆ 8-0         │\n",
      "│ A2ML1       ┆ HGNC:23336 ┆ Noonan       ┆ MONDO:001899 ┆ Detection   ┆ Noonan      ┆ 10.33602/me │\n",
      "│             ┆            ┆ syndrome     ┆ 7            ┆ of a rare   ┆ syndrome    ┆ bm.3.1.7    │\n",
      "│             ┆            ┆              ┆              ┆ mutation i… ┆ (NS) is a   ┆             │\n",
      "│             ┆            ┆              ┆              ┆             ┆ gene…       ┆             │\n",
      "└─────────────┴────────────┴──────────────┴──────────────┴─────────────┴─────────────┴─────────────┘\n"
     ]
    }
   ],
   "source": [
    "# Collect abstracts for all gene-disease relationships\n",
    "all_articles = []\n",
    "\n",
    "for row in df_filtered.iter_rows(named=True):  # Iterate over rows as dictionaries\n",
    "    gene_symbol = row[\"gene_symbol\"]\n",
    "    disease_label = row[\"disease_label\"]\n",
    "    hgnc_id = row[\"hgnc_id\"]\n",
    "    mondo_id = row[\"mondo_id\"]\n",
    "\n",
    "    articles = fetch_abstracts_semanticscholar(gene_symbol, disease_label, hgnc_id, mondo_id, max_results=10)\n",
    "    all_articles.extend(articles)\n",
    "\n",
    "# Convert results into a Polars DataFrame\n",
    "df_abstracts = pl.DataFrame(all_articles)\n",
    "\n",
    "# Display results.\n",
    "print(f\"Saved {len(df_abstracts)} abstracts to gene_disease_abstracts.csv\")\n",
    "print(df_abstracts.head())"
   ]
  },
  {
   "cell_type": "code",
   "execution_count": 73,
   "id": "122f5c8f-d12d-47fb-b38f-5bbceecf5f1c",
   "metadata": {},
   "outputs": [],
   "source": [
    "# Save to CSV file\n",
    "df_abstracts.write_csv(\"Semantic_Scholar_Gene_Disease_Abstracts.csv\")"
   ]
  }
 ],
 "metadata": {
  "kernelspec": {
   "display_name": "Python [conda env:base] *",
   "language": "python",
   "name": "conda-base-py"
  },
  "language_info": {
   "codemirror_mode": {
    "name": "ipython",
    "version": 3
   },
   "file_extension": ".py",
   "mimetype": "text/x-python",
   "name": "python",
   "nbconvert_exporter": "python",
   "pygments_lexer": "ipython3",
   "version": "3.12.7"
  }
 },
 "nbformat": 4,
 "nbformat_minor": 5
}
